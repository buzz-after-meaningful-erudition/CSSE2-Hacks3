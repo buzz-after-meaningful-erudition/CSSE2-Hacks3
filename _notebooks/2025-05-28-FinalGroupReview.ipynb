{
 "cells": [
  {
   "cell_type": "markdown",
   "id": "7065d042",
   "metadata": {},
   "source": [
    "## Final Group Review"
   ]
  },
  {
   "cell_type": "markdown",
   "id": "532a7b8c",
   "metadata": {},
   "source": [
    "> so... 12 weeks have passed. How have we wasted these 12 weeks?"
   ]
  },
  {
   "cell_type": "markdown",
   "id": "d2515065",
   "metadata": {},
   "source": [
    "## Addition 1 - 2 Player"
   ]
  },
  {
   "cell_type": "markdown",
   "id": "66e3972d",
   "metadata": {},
   "source": [
    "In the beginning, we added a two player system to our End level.\n",
    "This was done with one file by delegating movement inputs down to the instances of the Player class."
   ]
  },
  {
   "cell_type": "code",
   "execution_count": null,
   "id": "7dd3c177",
   "metadata": {
    "vscode": {
     "languageId": "javascript"
    }
   },
   "outputs": [],
   "source": [
    "if (this.pressedKeys[this.keypress.up] && this.pressedKeys[this.keypress.left]) {\n",
    "    this.velocity.y -= this.yVelocity;\n",
    "    this.velocity.x -= this.xVelocity;\n",
    "    this.direction = 'upLeft';\n",
    "} else if (this.pressedKeys[this.keypress.up] && this.pressedKeys[this.keypress.right]) {\n",
    "    this.velocity.y -= this.yVelocity;\n",
    "    this.velocity.x += this.xVelocity;\n",
    "    this.direction = 'upRight';"
   ]
  },
  {
   "cell_type": "markdown",
   "id": "cfdaecc5",
   "metadata": {},
   "source": [
    "a short snippet of the movement code using instanced variables"
   ]
  },
  {
   "cell_type": "markdown",
   "id": "50a6ec1e",
   "metadata": {},
   "source": [
    "## Addition 2 - Enemy"
   ]
  },
  {
   "cell_type": "markdown",
   "id": "12b9ec26",
   "metadata": {},
   "source": [
    "The Enderman, or enemy, detects  the nearest player and paths towards them. It also kills on contact and uses death particle effects."
   ]
  },
  {
   "cell_type": "markdown",
   "id": "e7f9799b",
   "metadata": {},
   "source": [
    "![enderman](https://ibb.co/5dWvjbn)"
   ]
  },
  {
   "cell_type": "markdown",
   "id": "cfcf3139",
   "metadata": {},
   "source": [
    "This part of the Enderman catalogues Players into a list, calculates distance to player, and if the player is within the Enderman's minimum distance sets it as \"nearest,\" or as its target."
   ]
  },
  {
   "cell_type": "code",
   "execution_count": null,
   "id": "a4430204",
   "metadata": {
    "vscode": {
     "languageId": "javascript"
    }
   },
   "outputs": [],
   "source": [
    "const players = this.gameEnv.gameObjects.filter(obj => \n",
    "    obj.constructor.name === 'Player'\n",
    ");\n",
    "\n",
    "if (players.length === 0) return;\n",
    "\n",
    "// Find nearest player\n",
    "let nearest = players[0];\n",
    "let minDist = Infinity;\n",
    "\n",
    "for (const player of players) {\n",
    "    const dx = player.position.x - this.position.x;\n",
    "    const dy = player.position.y - this.position.y;\n",
    "    const dist = Math.sqrt(dx*dx + dy*dy);\n",
    "    if (dist < minDist) {\n",
    "        minDist = dist;\n",
    "        nearest = player;\n",
    "    }\n",
    "}"
   ]
  },
  {
   "cell_type": "markdown",
   "id": "a5728283",
   "metadata": {},
   "source": [
    "This part of the code sets the Endermans speed (as an adjustable variable) and resets the direction x and direction y according to the \"nearest\" player set above. It also calculates the angle as well as updates the Enderman's position continuously"
   ]
  },
  {
   "cell_type": "code",
   "execution_count": null,
   "id": "83fa9fdc",
   "metadata": {
    "vscode": {
     "languageId": "javascript"
    }
   },
   "outputs": [],
   "source": [
    "const speed = 1.5; // Adjust speed as needed\n",
    "const dx = nearest.position.x - this.position.x;\n",
    "const dy = nearest.position.y - this.position.y;\n",
    "const angle = Math.atan2(dy, dx);\n",
    "\n",
    "// Update position\n",
    "this.position.x += Math.cos(angle) * speed;\n",
    "this.position.y += Math.sin(angle) * speed;"
   ]
  },
  {
   "cell_type": "markdown",
   "id": "a32eaa48",
   "metadata": {},
   "source": [
    "Here, we check for collision by setting a hitbox for the player and the Enderman"
   ]
  },
  {
   "cell_type": "code",
   "execution_count": null,
   "id": "1ddd377f",
   "metadata": {
    "vscode": {
     "languageId": "javascript"
    }
   },
   "outputs": [],
   "source": [
    "// Check for collision with any player\n",
    "for (const player of players) {\n",
    "    // Calculate distance for hitbox collision\n",
    "    const playerX = player.position.x + player.width / 2;\n",
    "    const playerY = player.position.y + player.height / 2;\n",
    "    const enemyX = this.position.x + this.width / 2;\n",
    "    const enemyY = this.position.y + this.height / 2;\n",
    "    \n",
    "    const dx = playerX - enemyX;\n",
    "    const dy = playerY - enemyY;\n",
    "    const distance = Math.sqrt(dx*dx + dy*dy);\n",
    "    \n",
    "    // Hitbox collision - adjust values as needed\n",
    "    const collisionThreshold = (player.width * player.hitbox.widthPercentage + \n",
    "                            this.width * this.hitbox.widthPercentage) / 2;\n",
    "    \n",
    "    if (distance < collisionThreshold) {\n",
    "        // Set killing flag to prevent repeated kills\n",
    "        this.isKilling = true;"
   ]
  },
  {
   "cell_type": "markdown",
   "id": "189fdd18",
   "metadata": {},
   "source": [
    "full code below"
   ]
  },
  {
   "cell_type": "code",
   "execution_count": null,
   "id": "ee7f0d78",
   "metadata": {
    "vscode": {
     "languageId": "javascript"
    }
   },
   "outputs": [],
   "source": [
    "const sprite_src_enemy = path + \"/images/gamify/enderman.png\";\n",
    "const sprite_data_enemy = {\n",
    "    id: 'Enderman',\n",
    "    greeting: \"You feel a dark presence...\",\n",
    "    src: sprite_src_enemy,\n",
    "    SCALE_FACTOR: 10,\n",
    "    ANIMATION_RATE: 50,\n",
    "    pixels: {height: 1504, width: 574},\n",
    "    INIT_POSITION: { x: width / 2, y: height / 4 },\n",
    "    orientation: {rows: 1, columns: 1},\n",
    "    down: {row: 0, start: 0, columns: 1},\n",
    "    hitbox: { widthPercentage: 0.4, heightPercentage: 0.4 },\n",
    "    zIndex: 10,\n",
    "    isKilling: false, // Flag to prevent multiple kills\n",
    "    \n",
    "    // The update method with all functionality inline\n",
    "    update: function() {\n",
    "        // Skip update if already in killing process\n",
    "        if (this.isKilling) {\n",
    "            return;\n",
    "        }\n",
    "        \n",
    "        // Find all player objects\n",
    "        const players = this.gameEnv.gameObjects.filter(obj => \n",
    "            obj.constructor.name === 'Player'\n",
    "        );\n",
    "        \n",
    "        if (players.length === 0) return;\n",
    "        \n",
    "        // Find nearest player\n",
    "        let nearest = players[0];\n",
    "        let minDist = Infinity;\n",
    "\n",
    "        for (const player of players) {\n",
    "            const dx = player.position.x - this.position.x;\n",
    "            const dy = player.position.y - this.position.y;\n",
    "            const dist = Math.sqrt(dx*dx + dy*dy);\n",
    "            if (dist < minDist) {\n",
    "                minDist = dist;\n",
    "                nearest = player;\n",
    "            }\n",
    "        }\n",
    "\n",
    "        // Move towards nearest player\n",
    "        const speed = 1.5; // Adjust speed as needed\n",
    "        const dx = nearest.position.x - this.position.x;\n",
    "        const dy = nearest.position.y - this.position.y;\n",
    "        const angle = Math.atan2(dy, dx);\n",
    "        \n",
    "        // Update position\n",
    "        this.position.x += Math.cos(angle) * speed;\n",
    "        this.position.y += Math.sin(angle) * speed;\n",
    "        \n",
    "        // Check for collision with any player\n",
    "        for (const player of players) {\n",
    "            // Calculate distance for hitbox collision\n",
    "            const playerX = player.position.x + player.width / 2;\n",
    "            const playerY = player.position.y + player.height / 2;\n",
    "            const enemyX = this.position.x + this.width / 2;\n",
    "            const enemyY = this.position.y + this.height / 2;\n",
    "            \n",
    "            const dx = playerX - enemyX;\n",
    "            const dy = playerY - enemyY;\n",
    "            const distance = Math.sqrt(dx*dx + dy*dy);\n",
    "            \n",
    "            // Hitbox collision - adjust values as needed\n",
    "            const collisionThreshold = (player.width * player.hitbox.widthPercentage + \n",
    "                                    this.width * this.hitbox.widthPercentage) / 2;\n",
    "            \n",
    "            if (distance < collisionThreshold) {\n",
    "                // Set killing flag to prevent repeated kills\n",
    "                this.isKilling = true;\n",
    "                \n",
    "                // === PLAYER DEATH: ALL FUNCTIONALITY INLINE ===\n",
    "                \n",
    "                // 1. Play death animation - particle effect\n",
    "                const playerX = player.position.x;\n",
    "                const playerY = player.position.y;\n",
    "                \n",
    "                // Create explosion effect\n",
    "                for (let i = 0; i < 20; i++) {\n",
    "                    const particle = document.createElement('div');\n",
    "                    particle.style.position = 'absolute';\n",
    "                    particle.style.width = '5px';\n",
    "                    particle.style.height = '5px';\n",
    "                    particle.style.backgroundColor = 'red';\n",
    "                    particle.style.left = `${playerX + player.width/2}px`;\n",
    "                    particle.style.top = `${playerY + player.height/2}px`;\n",
    "                    particle.style.zIndex = '9999';\n",
    "                    document.body.appendChild(particle);\n",
    "                    \n",
    "                    // Animate particles outward\n",
    "                    const angle = Math.random() * Math.PI * 2;\n",
    "                    const speed = Math.random() * 5 + 2;\n",
    "                    const distance = Math.random() * 100 + 50;\n",
    "                    \n",
    "                    const destX = Math.cos(angle) * distance;\n",
    "                    const destY = Math.sin(angle) * distance;\n",
    "                    \n",
    "                    particle.animate(\n",
    "                        [\n",
    "                            { transform: 'translate(0, 0)', opacity: 1 },\n",
    "                            { transform: `translate(${destX}px, ${destY}px)`, opacity: 0 }\n",
    "                        ],\n",
    "                        {\n",
    "                            duration: 1000,\n",
    "                            easing: 'ease-out',\n",
    "                            fill: 'forwards'\n",
    "                        }\n",
    "                    );\n",
    "                    \n",
    "                    // Remove particle after animation\n",
    "                    setTimeout(() => {\n",
    "                        if (particle.parentNode) {\n",
    "                            particle.parentNode.removeChild(particle);\n",
    "                        }\n",
    "                    }, 1000);\n",
    "                }\n",
    "                \n",
    "                // 2. Show death message dialog\n",
    "                const deathMessage = document.createElement('div');\n",
    "                deathMessage.style.position = 'fixed';\n",
    "                deathMessage.style.top = '50%';\n",
    "                deathMessage.style.left = '50%';\n",
    "                deathMessage.style.transform = 'translate(-50%, -50%)';\n",
    "                deathMessage.style.backgroundColor = 'rgba(0, 0, 0, 0.8)';\n",
    "                deathMessage.style.color = '#FF0000';\n",
    "                deathMessage.style.padding = '30px';\n",
    "                deathMessage.style.borderRadius = '10px';\n",
    "                deathMessage.style.fontFamily = \"'Press Start 2P', sans-serif\";\n",
    "                deathMessage.style.fontSize = '24px';\n",
    "                deathMessage.style.textAlign = 'center';\n",
    "                deathMessage.style.zIndex = '10000';\n",
    "                deathMessage.style.border = '3px solid #FF0000';\n",
    "                deathMessage.style.boxShadow = '0 0 20px rgba(255, 0, 0, 0.5)';\n",
    "                deathMessage.style.width = '400px';\n",
    "                deathMessage.innerHTML = `\n",
    "                    <div style=\"margin-bottom: 20px;\">☠️ YOU DIED ☠️</div>\n",
    "                    <div style=\"font-size: 16px; margin-bottom: 20px;\">The Enderman got you!</div>\n",
    "                    <div style=\"font-size: 14px;\">Respawning in 2 seconds...</div>\n",
    "                `;\n",
    "                \n",
    "                document.body.appendChild(deathMessage);\n",
    "                \n",
    "                // Remove message after delay\n",
    "                setTimeout(() => {\n",
    "                    if (deathMessage.parentNode) {\n",
    "                        deathMessage.parentNode.removeChild(deathMessage);\n",
    "                    }\n",
    "                }, 2000);\n",
    "                \n",
    "                // 3. Reset the level after a short delay using page reload for reliability\n",
    "                setTimeout(() => {\n",
    "                    // Clean up any lingering resources before reload\n",
    "                    if (self && self.timerInterval) {\n",
    "                        clearInterval(self.timerInterval);\n",
    "                    }\n",
    "                    \n",
    "                    // Force a complete page reload - most reliable way to reset\n",
    "                    location.reload();\n",
    "                }, 2000); // 2 second delay before reset\n",
    "                \n",
    "                break;\n",
    "            }\n",
    "        }\n",
    "    }\n",
    "};"
   ]
  },
  {
   "cell_type": "markdown",
   "id": "6b822d2f",
   "metadata": {},
   "source": [
    "## Addition 3 - Revamped Dialogue"
   ]
  },
  {
   "cell_type": "markdown",
   "id": "8b1996e7",
   "metadata": {},
   "source": [
    "Our new dialogue system not only looks better but keeps immersion in the game as it does not use browser alerts to display dialogue."
   ]
  },
  {
   "cell_type": "markdown",
   "id": "6065917c",
   "metadata": {},
   "source": [
    "- We created 2 new files: DialogBox.js and DialogueSystem.js\n",
    "- DialogBox.js handles the creation of the ingame box and the sound effect\n",
    "- DialogueSystem.js handles the usage of DialogBox.js, the creation of the character image, and also the method which the npcs' use this system\n",
    "\n"
   ]
  },
  {
   "cell_type": "markdown",
   "id": "6d780457",
   "metadata": {},
   "source": [
    "implementation in an NPC below:"
   ]
  },
  {
   "cell_type": "code",
   "execution_count": null,
   "id": "c80f0f7c",
   "metadata": {
    "vscode": {
     "languageId": "javascript"
    }
   },
   "outputs": [],
   "source": [
    "const dialogueSystem = this.dialogueSystem;\n",
    "const sprite_data_endship = {\n",
    "    // sprite data abbreviated\n",
    "    dialogues: [\n",
    "      \"The end ship looms before you...\",\n",
    "      \"The end ship seems to beckon you to loot the treasure within...\",\n",
    "      \"funny purple spaceship heheheheheh\",\n",
    "      \"Press 'M' to enter the ship's adventure...\",\n",
    "    ],\n",
    "    reaction: function() {\n",
    "      //silent reaction for interaction to work\n",
    "    },\n",
    "    interact: function() {\n",
    "      dialogueSystem.showRandomDialogue(); // Using Dialogue system instead of alert\n",
    "      // Add event listener for 'm' key press during interaction\n",
    "      const handleKeyPress = (event) => {\n",
    "        if (event.key.toLowerCase() === 'e') {\n",
    "          // Remove the event listener to prevent multiple bindings\n",
    "          document.removeEventListener('keydown', handleKeyPress);"
   ]
  },
  {
   "cell_type": "markdown",
   "id": "8801a2f9",
   "metadata": {},
   "source": [
    "in the sprite data, there are three main components.\n",
    "- First, the \"dialogues:\" list contains all of the possible lines that can be said by the NPC\n",
    "- Second, the \"reaction:\" is set to an empty function in order to use the new dialogue system and not show an alert\n",
    "- Third, the \"interact:\" uses the random dialogue system from our files to display the text"
   ]
  },
  {
   "cell_type": "markdown",
   "id": "699498d4",
   "metadata": {},
   "source": [
    "## Addition 4 - Collectibles"
   ]
  }
 ],
 "metadata": {
  "language_info": {
   "name": "python"
  }
 },
 "nbformat": 4,
 "nbformat_minor": 5
}
